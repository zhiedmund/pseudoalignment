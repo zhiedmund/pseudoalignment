{
 "cells": [
  {
   "cell_type": "code",
   "execution_count": 214,
   "metadata": {},
   "outputs": [],
   "source": [
    "import gzip\n",
    "from Bio import SeqIO\n",
    "from tabulate import tabulate\n",
    "import matplotlib.pyplot as plt"
   ]
  },
  {
   "cell_type": "code",
   "execution_count": 215,
   "metadata": {},
   "outputs": [],
   "source": [
    "k_global = 100"
   ]
  },
  {
   "cell_type": "code",
   "execution_count": 216,
   "metadata": {},
   "outputs": [],
   "source": [
    "#chr_11 gives us all the isoforms of the same gene\n",
    "transcripts = list(SeqIO.parse('/Users/edmund/Downloads/CS121 Final Project/chr11_transcriptome.fasta', \"fasta\"))\n",
    "transcriptome_dict = {}\n",
    "for entry in transcripts:\n",
    "  transcriptome_dict[(str(entry.id))] = str(entry.seq)"
   ]
  },
  {
   "cell_type": "code",
   "execution_count": 217,
   "metadata": {},
   "outputs": [],
   "source": [
    "#this creates our hash table of kmers and sorts the isoforms into each hash. i.e., the index that we produce\n",
    "def generateKmers(transcriptome: dict, k: int):\n",
    "    kmer_dict = {}\n",
    "    for key in transcriptome: \n",
    "      for i in range(len(transcriptome[key])-k+1):\n",
    "        kmer = transcriptome[key][i:i+k]\n",
    "        if kmer not in kmer_dict:\n",
    "          kmer_dict[kmer] = [key]\n",
    "        else:\n",
    "          kmer_dict[kmer].append(key)\n",
    "    return kmer_dict\n",
    "kmers = generateKmers(transcriptome_dict, k_global)"
   ]
  },
  {
   "cell_type": "code",
   "execution_count": 218,
   "metadata": {},
   "outputs": [],
   "source": [
    "#this loads in our reads\n",
    "file = gzip.open(\"/Users/edmund/Downloads/CS121 Final Project/reads.fasta.gz\", \"rt\")\n",
    "reads = list(SeqIO.parse(file, \"fasta\"))"
   ]
  },
  {
   "cell_type": "code",
   "execution_count": 219,
   "metadata": {},
   "outputs": [],
   "source": [
    "#intersection function\n",
    "def equivalenceClassIntersection(list1, list2):\n",
    "    answer = set(list1).intersection(list2)\n",
    "    return list(answer)"
   ]
  },
  {
   "cell_type": "code",
   "execution_count": 220,
   "metadata": {},
   "outputs": [],
   "source": [
    "#pseudoalign one read\n",
    "def pseudoalign(read, kmers: dict, k):\n",
    "    equivalenceClass = []\n",
    "    for i in range(len(read)-k+1):\n",
    "        kmer = read[i:i+k]\n",
    "        if kmer in kmers: \n",
    "            # for our first equivalence class\n",
    "            if equivalenceClass == []:\n",
    "                equivalenceClass = kmers[kmer] \n",
    "            else:\n",
    "                equivalenceClass2 = kmers[kmer]\n",
    "                equivalenceClassTemp = equivalenceClassIntersection(equivalenceClass, equivalenceClass2)\n",
    "                equivalenceClass = equivalenceClassTemp\n",
    "    return equivalenceClass\n"
   ]
  },
  {
   "cell_type": "code",
   "execution_count": 221,
   "metadata": {},
   "outputs": [],
   "source": [
    "def pseudoalignment(kmers: dict, reads, k):\n",
    "    equivalenceClasses = {}\n",
    "    for seq in reads:\n",
    "        sequence = str(seq.seq)\n",
    "        #pseudoalign the read (map the read to an equivalence class)\n",
    "        equivalenceClass = pseudoalign(sequence, kmers, k)\n",
    "        equivalenceClassKey = ' '.join(str(s) for s in equivalenceClass)\n",
    "        #if no equivalance class found, try the reverse complement\n",
    "        if equivalenceClassKey == '':\n",
    "            sequence = str(seq.seq.reverse_complement())\n",
    "            equivalenceClass = pseudoalign(sequence, kmers, k)\n",
    "            equivalenceClassKey = ' '.join(str(s) for s in equivalenceClass)\n",
    "        #if still no class found, class is called \"NA\"\n",
    "        if equivalenceClassKey == '':\n",
    "            equivalenceClassKey = 'NA'\n",
    "        #find the read's equivalence class and increase the count\n",
    "        if equivalenceClassKey in equivalenceClasses:\n",
    "            equivalenceClasses[equivalenceClassKey] += 1\n",
    "        else:\n",
    "            equivalenceClasses[equivalenceClassKey] = 1\n",
    "    return equivalenceClasses\n",
    "\n",
    "table = pseudoalignment(kmers, reads, k_global)"
   ]
  },
  {
   "cell_type": "code",
   "execution_count": 222,
   "metadata": {},
   "outputs": [],
   "source": [
    "def isoform_count(string):\n",
    "    return(len(string.strip().split(\" \")))"
   ]
  },
  {
   "cell_type": "code",
   "execution_count": 223,
   "metadata": {},
   "outputs": [],
   "source": [
    "#convert the dictionary to a displayable list\n",
    "output = []\n",
    "for key in table:\n",
    "    row = []\n",
    "    row.append(str(table[key]))\n",
    "    if \"NA\" in str(key):\n",
    "        row.append(0)\n",
    "    else:\n",
    "        row.append(isoform_count(str(key)))\n",
    "    row.append(str(key))\n",
    "    output.append(row)"
   ]
  },
  {
   "cell_type": "code",
   "execution_count": 224,
   "metadata": {},
   "outputs": [],
   "source": [
    "output_file = open(\"/Users/edmund/Downloads/CS121 Final Project/output.txt\",\"w\")\n",
    "output_file.write(tabulate(output, headers=[\"Counts\", \"Number of Items in Equivalence Class\", \"Isoforms in Equivalence Class\"]))\n",
    "output_file.close()"
   ]
  },
  {
   "cell_type": "code",
   "execution_count": 225,
   "metadata": {},
   "outputs": [
    {
     "name": "stdout",
     "output_type": "stream",
     "text": [
      "10184\n"
     ]
    }
   ],
   "source": [
    "print(len(output))"
   ]
  },
  {
   "cell_type": "code",
   "execution_count": 37,
   "metadata": {},
   "outputs": [
    {
     "name": "stdout",
     "output_type": "stream",
     "text": [
      "[0, 1, 2, 3, 4, 5, 6, 7, 8, 9, 10, 11, 12, 13, 14, 15, 16, 17, 18, 19, 20, 21, 22, 23, 24, 25, 26, 27, 28, 29, 30, 31, 32, 33, 34, 35, 36, 37, 38, 39, 40, 41, 42, 43, 44, 45, 46, 47, 48, 49, 50, 51, 52, 53, 54]\n",
      "[231720, 205885, 220662, 135444, 93674, 86192, 70557, 67059, 41807, 24502, 23370, 20412, 11706, 23922, 4628, 3455, 1586, 1815, 1974, 1808, 562, 2112, 516, 855, 550, 133, 1541, 263, 200, 59, 23, 22, 3, 1, 166, 184, 100, 21, 37, 241, 218, 1037, 462, 3, 99, 39, 111, 152, 399, 11, 21, 20, 127, 3, 57]\n"
     ]
    },
    {
     "data": {
      "image/png": "[encoded data removed]",
      "text/plain": [
       "<Figure size 432x288 with 1 Axes>"
      ]
     },
     "metadata": {
      "needs_background": "light"
     },
     "output_type": "display_data"
    }
   ],
   "source": [
    "#make our bins, define it as the number of isoforms in an equivalence class\n",
    "bins = []\n",
    "for entry in output:\n",
    "    bins.append(entry[1])\n",
    "#this gets us our range of X's\n",
    "xrange = max(bins)\n",
    "\n",
    "x = []\n",
    "#plus 1 to account for 0\n",
    "for i in range(xrange+1):\n",
    "    x.append(i)\n",
    "print(x)\n",
    "\n",
    "y = [0 for i in range(xrange+1)]\n",
    "#for every equivalence class\n",
    "for i in range(len(output)):\n",
    "    y[output[i][1]] += int(output[i][0])\n",
    "print(y)\n",
    "\n",
    "plt.bar(x,y,align='center') # A bar chart\n",
    "plt.xlabel('Number of Isoforms in an Equivalence Class (Size)')\n",
    "plt.ylabel('Number of Reads Mapping to an Equivalence Class')\n",
    "plt.title('Size vs Number of Reads Mapping to an Equivalence Class')\n",
    "plt.show()"
   ]
  },
  {
   "cell_type": "code",
   "execution_count": 237,
   "metadata": {},
   "outputs": [
    {
     "data": {
      "text/plain": [
       "(array([7618., 1050.,  447.,  258.,  193.,  200.,  131.,  106.,   96.,\n",
       "          85.]),\n",
       " array([  0. ,  77.9, 155.8, 233.7, 311.6, 389.5, 467.4, 545.3, 623.2,\n",
       "        701.1, 779. ]),\n",
       " <BarContainer object of 10 artists>)"
      ]
     },
     "execution_count": 237,
     "metadata": {},
     "output_type": "execute_result"
    },
    {
     "data": {
      "image/png": "[encoded data removed]",
      "text/plain": [
       "<Figure size 432x288 with 1 Axes>"
      ]
     },
     "metadata": {
      "needs_background": "light"
     },
     "output_type": "display_data"
    }
   ],
   "source": [
    "x = []\n",
    "for i in range(len(output)):\n",
    "    x.append(output[i][0])\n",
    "\n",
    "plt.xlabel(\"Counts in Equivalence Class\")\n",
    "plt.ylabel(\"Frequency\")\n",
    "plt.title(\"Histogram of Counts\")\n",
    "plt.xticks(rotation = 90)\n",
    "plt.hist(x)"
   ]
  },
  {
   "cell_type": "code",
   "execution_count": 235,
   "metadata": {},
   "outputs": [
    {
     "data": {
      "text/plain": [
       "(array([2.367e+03, 1.536e+03, 1.218e+03, 9.940e+02, 8.310e+02, 6.540e+02,\n",
       "        5.040e+02, 3.980e+02, 3.270e+02, 2.660e+02, 2.250e+02, 1.860e+02,\n",
       "        1.380e+02, 9.700e+01, 6.200e+01, 6.400e+01, 5.400e+01, 5.000e+01,\n",
       "        3.600e+01, 2.600e+01, 2.300e+01, 1.300e+01, 1.000e+01, 5.000e+00,\n",
       "        7.000e+00, 7.000e+00, 5.000e+00, 6.000e+00, 2.000e+00, 2.000e+00,\n",
       "        3.000e+00, 2.000e+00, 1.000e+00, 3.000e+00, 5.000e+00, 2.000e+00,\n",
       "        2.000e+00, 5.000e+00, 5.000e+00, 6.000e+00, 3.000e+00, 3.000e+00,\n",
       "        2.000e+00, 3.000e+00, 2.000e+00, 4.000e+00, 5.000e+00, 4.000e+00,\n",
       "        2.000e+00, 1.000e+00, 1.000e+00, 4.000e+00, 3.000e+00]),\n",
       " array([ 0.        ,  1.01886792,  2.03773585,  3.05660377,  4.0754717 ,\n",
       "         5.09433962,  6.11320755,  7.13207547,  8.1509434 ,  9.16981132,\n",
       "        10.18867925, 11.20754717, 12.22641509, 13.24528302, 14.26415094,\n",
       "        15.28301887, 16.30188679, 17.32075472, 18.33962264, 19.35849057,\n",
       "        20.37735849, 21.39622642, 22.41509434, 23.43396226, 24.45283019,\n",
       "        25.47169811, 26.49056604, 27.50943396, 28.52830189, 29.54716981,\n",
       "        30.56603774, 31.58490566, 32.60377358, 33.62264151, 34.64150943,\n",
       "        35.66037736, 36.67924528, 37.69811321, 38.71698113, 39.73584906,\n",
       "        40.75471698, 41.77358491, 42.79245283, 43.81132075, 44.83018868,\n",
       "        45.8490566 , 46.86792453, 47.88679245, 48.90566038, 49.9245283 ,\n",
       "        50.94339623, 51.96226415, 52.98113208, 54.        ]),\n",
       " <BarContainer object of 53 artists>)"
      ]
     },
     "execution_count": 235,
     "metadata": {},
     "output_type": "execute_result"
    },
    {
     "data": {
      "image/png": "[encoded data removed]",
      "text/plain": [
       "<Figure size 432x288 with 1 Axes>"
      ]
     },
     "metadata": {
      "needs_background": "light"
     },
     "output_type": "display_data"
    }
   ],
   "source": [
    "x = []\n",
    "#plus 1 to account for 0\n",
    "for i in range(len(output)):\n",
    "    x.append(output[i][1])\n",
    "plt.xlabel(\"Number of Items in an Equivalence Class\")\n",
    "plt.ylabel(\"Frequency\")\n",
    "plt.title(\"Histogram of Number of Items in an Equivalence Class\")\n",
    "plt.hist(x, bins = 53)"
   ]
  }
 ],
 "metadata": {
  "interpreter": {
   "hash": "aee8b7b246df8f9039afb4144a1f6fd8d2ca17a180786b69acc140d282b71a49"
  },
  "kernelspec": {
   "display_name": "Python 3.9.1 64-bit",
   "language": "python",
   "name": "python3"
  },
  "language_info": {
   "codemirror_mode": {
    "name": "ipython",
    "version": 3
   },
   "file_extension": ".py",
   "mimetype": "text/x-python",
   "name": "python",
   "nbconvert_exporter": "python",
   "pygments_lexer": "ipython3",
   "version": "3.9.1"
  },
  "orig_nbformat": 4
 },
 "nbformat": 4,
 "nbformat_minor": 2
}
